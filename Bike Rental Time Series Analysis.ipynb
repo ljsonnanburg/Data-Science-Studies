{
 "cells": [
  {
   "cell_type": "markdown",
   "id": "913cc2b5",
   "metadata": {},
   "source": [
    "This was a homework exercise using data on bike rentals as a study of time series analysis, guided by the following instructions:"
   ]
  },
  {
   "cell_type": "markdown",
   "id": "6f27cc25",
   "metadata": {},
   "source": [
    "● Assignment 4, Part 1: Data Exploration\n",
    "o Read in bike_share_hour.csv as a pandas dataframe. The columns are\n",
    "described in the bike_share_readme.txt if you need more information\n",
    "about them.\n",
    "o Look at the dataset, and convert the columns that are categorical to a\n",
    "pandas “category” type.\n",
    "o Look for non-null values in the dataset.\n",
    "o Do a descriptive analysis of the numeric columns.\n",
    "o Implement a bar plot of cnt versus season. Document which season has\n",
    "the most bike rides and which season has the least.\n",
    "o Implement a bar chart for working day versus count. Document how bike\n",
    "rides are distributed across these two classes.\n",
    "o Implement a bar chart for month versus count. Document which months\n",
    "have the most bike rides.\n",
    "o Implement code to figure out which months belong to which seasons.\n",
    "o Implement a bar plot of weathersit versus cnt. Document which weather\n",
    "situation has less bike rentals.\n",
    "o Implement a point plot of weathersit on the x-axis, count on the y-axis, and\n",
    "the season as the hue. Document how season and weathersit are related.\n",
    "o Implement a bar plot of hour versus count. Are there any specific hours\n",
    "that are busier than others?\n",
    "o Implement a bar plot of hour versus count on weekends and holidays\n",
    "(when workingday = 0). Does the hourly trend change on weekends?\n",
    "● Assignment 4, Part 2: Data Preparation\n",
    "o Implement and graph a correlation matrix with the remaining numeric\n",
    "features. Any interesting relationships?\n",
    "o Scale the numerical features using StandardScaler(), and replace the\n",
    "original columns in your dataframe.\n",
    "o Drop the following columns from your dataset: casual, registered, dteday,\n",
    "instant.\n",
    "o Implement a histogram of the count column. What can be said based on\n",
    "the resulting distribution?\n",
    "o Implement a train/test split with a test size of 33%.\n",
    "o Implement a baseline linear regression algorithm. Use cross-validation to\n",
    "output r2 and mse. Calculate RMSE base on mse. Document your scores.\n",
    "● Assignment 4, Part 3: Model Training (Hint: trained all of these with a for loop\n",
    "and added my results to a PrettyTable.)\n",
    "o Create one-hot-encoded values for your categorical columns using\n",
    "get_dummies and add them to your source dataset.\n",
    "o Drop the original categorical columns from your source dataset.\n",
    "o Do a test/train split based on your new source dataset. Implement and fit a\n",
    "new linear model on your new training set.\n",
    "o What are the new values for r2, mse, and rmse?\n",
    "o Implement and score a decision tree regressor with random_state=0.\n",
    "o Implement and score a RandomForestRegressor with random_state=0\n",
    "and n_esitmators=30.\n",
    "o Implement and score an SGDRegressor with max_iter=1000 and tol=1e3).\n",
    "o Implement and score a Lasso Regressor with alpha=0.1.\n",
    "o Implement and score an ElasticNet Regressor with random_state=0.\n",
    "o Implement and score a Ridge Regressor with alpha=0.5.\n",
    "o Implement and score a BaggingRegressor.\n",
    "● Assignment 4, Part 4: Model Tuning\n",
    "o Take the top three performing models and implement cross-validation on\n",
    "them.\n",
    "▪ Hint: They should be Decision Tree Regressor,\n",
    "RandomForestRegressor, and BaggingRegressor.\n",
    "o Take your top performing model (mine was the RandomForestRegressor)\n",
    "and do a randomize search cv with 20 iterations and three folds.\n",
    "▪ I found it is best to set your n_jobs = (# of cpu’s you have – 1). This\n",
    "took about 10 minutes on my MacBook with 4 CPUs and 8 GB of\n",
    "memory.\n",
    "▪ Your param distributions should include the following:\n",
    "● Bootstrap: true, false\n",
    "● Max_depth: 10-110, number of bins 11\n",
    "● Max_features: auto, sqrt\n",
    "● Min_samples_split: 2,5,10\n",
    "● Min_samples_leaf: 1,2,4\n",
    "● 200 – 2000, number of bins 10\n",
    "o Take your best_estimator_ and see how it compares by doing cross_vals\n",
    "for r2, mse, and calculating rmse."
   ]
  },
  {
   "cell_type": "code",
   "execution_count": 1,
   "id": "61467f9f",
   "metadata": {},
   "outputs": [],
   "source": [
    "import numpy as np\n",
    "import pandas as pd\n",
    "import matplotlib.pyplot as plt\n",
    "import seaborn as sns\n",
    "from sklearn.model_selection import train_test_split, cross_val_score, GridSearchCV, cross_val_predict\n",
    "from sklearn.preprocessing import StandardScaler\n",
    "import pickle\n",
    "from sklearn.metrics import roc_auc_score\n",
    "from sklearn.metrics import confusion_matrix\n",
    "from sklearn.linear_model import LogisticRegression\n",
    "from sklearn.svm import SVC\n",
    "from sklearn.linear_model import SGDClassifier\n",
    "from sklearn.metrics import roc_auc_score\n",
    "from sklearn.metrics import roc_curve\n",
    "from sklearn.svm import LinearSVC\n",
    "from sklearn.linear_model import LinearRegression\n",
    "from sklearn.metrics import mean_squared_error\n",
    "from sklearn.metrics import r2_score\n",
    "from numpy import mean\n",
    "from numpy import absolute\n",
    "from numpy import sqrt\n",
    "from sklearn.tree import DecisionTreeRegressor\n",
    "from sklearn.ensemble import RandomForestRegressor\n",
    "from sklearn.linear_model import SGDRegressor\n",
    "from sklearn import linear_model\n",
    "from sklearn.linear_model import ElasticNet\n",
    "from sklearn.linear_model import Ridge\n",
    "from sklearn.model_selection import RandomizedSearchCV\n",
    "\n"
   ]
  },
  {
   "cell_type": "code",
   "execution_count": 2,
   "id": "6a540147",
   "metadata": {},
   "outputs": [
    {
     "data": {
      "text/html": [
       "<style>.container { width:80% !important; }</style>"
      ],
      "text/plain": [
       "<IPython.core.display.HTML object>"
      ]
     },
     "metadata": {},
     "output_type": "display_data"
    },
    {
     "data": {
      "text/html": [
       "<style>div.output_scroll {height: 80em; }</style>"
      ],
      "text/plain": [
       "<IPython.core.display.HTML object>"
      ]
     },
     "metadata": {},
     "output_type": "display_data"
    }
   ],
   "source": [
    "# Bigger cells for readability\n",
    "from IPython.core.display import display, HTML\n",
    "display(HTML(\"<style>.container { width:80% !important; }</style>\"))\n",
    "display(HTML(\"<style>div.output_scroll {height: 80em; }</style>\"))"
   ]
  },
  {
   "cell_type": "markdown",
   "id": "29fbe76e",
   "metadata": {},
   "source": [
    "# Part 1"
   ]
  },
  {
   "cell_type": "code",
   "execution_count": 3,
   "id": "d95e6ba4",
   "metadata": {},
   "outputs": [],
   "source": [
    "'''\t- instant: record index\n",
    "\t- dteday : date\n",
    "\t- season : season (1:springer, 2:summer, 3:fall, 4:winter) (categorical)\n",
    "\t- yr : year (0: 2011, 1:2012) (binary, could be categorical)\n",
    "\t- mnth : month ( 1 to 12) (categorical)\n",
    "\t- hr : hour (0 to 23) (...arguably categorical? time of day rather than sequential hours)\n",
    "\t- holiday : weather day is holiday or not (extracted from http://dchr.dc.gov/page/holiday-schedule) (categorical)\n",
    "\t- weekday : day of the week (categorical), pretty sure 0 is sunday\n",
    "\t- workingday : if day is neither weekend nor holiday is 1, otherwise is 0. (categorical)\n",
    "\t+ weathersit : (categorical)\n",
    "\t\t- 1: Clear, Few clouds, Partly cloudy, Partly cloudy\n",
    "\t\t- 2: Mist + Cloudy, Mist + Broken clouds, Mist + Few clouds, Mist\n",
    "\t\t- 3: Light Snow, Light Rain + Thunderstorm + Scattered clouds, Light Rain + Scattered clouds\n",
    "\t\t- 4: Heavy Rain + Ice Pallets + Thunderstorm + Mist, Snow + Fog\n",
    "\t- temp : Normalized temperature in Celsius. The values are divided to 41 (max)\n",
    "\t- atemp: Normalized feeling temperature in Celsius. The values are divided to 50 (max)\n",
    "\t- hum: Normalized humidity. The values are divided to 100 (max)\n",
    "\t- windspeed: Normalized wind speed. The values are divided to 67 (max)\n",
    "\t- casual: count of casual users\n",
    "\t- registered: count of registered users\n",
    "\t- cnt: count of total rental bikes including both casual and registered''';"
   ]
  },
  {
   "cell_type": "code",
   "execution_count": 4,
   "id": "70cad099",
   "metadata": {},
   "outputs": [],
   "source": [
    "# Reading in data\n",
    "df = train = pd.read_csv(\"C:/JupyterNotebookStuff/bike_share_hour.csv\")"
   ]
  },
  {
   "cell_type": "code",
   "execution_count": 5,
   "id": "0f4caa68",
   "metadata": {},
   "outputs": [
    {
     "data": {
      "text/plain": [
       "instant          int64\n",
       "dteday          object\n",
       "season        category\n",
       "yr            category\n",
       "mnth          category\n",
       "hr            category\n",
       "holiday       category\n",
       "weekday       category\n",
       "workingday    category\n",
       "weathersit    category\n",
       "temp           float64\n",
       "atemp          float64\n",
       "hum            float64\n",
       "windspeed      float64\n",
       "casual           int64\n",
       "registered       int64\n",
       "cnt              int64\n",
       "dtype: object"
      ]
     },
     "execution_count": 5,
     "metadata": {},
     "output_type": "execute_result"
    }
   ],
   "source": [
    "# Encoding variables\n",
    "cols = ['season','mnth','holiday','weekday','workingday','weathersit','hr','yr']\n",
    "df[cols] = df[cols].astype('category')\n",
    "df.dtypes"
   ]
  },
  {
   "cell_type": "code",
   "execution_count": 6,
   "id": "f75dd5cf",
   "metadata": {},
   "outputs": [
    {
     "data": {
      "text/html": [
       "<div>\n",
       "<style scoped>\n",
       "    .dataframe tbody tr th:only-of-type {\n",
       "        vertical-align: middle;\n",
       "    }\n",
       "\n",
       "    .dataframe tbody tr th {\n",
       "        vertical-align: top;\n",
       "    }\n",
       "\n",
       "    .dataframe thead th {\n",
       "        text-align: right;\n",
       "    }\n",
       "</style>\n",
       "<table border=\"1\" class=\"dataframe\">\n",
       "  <thead>\n",
       "    <tr style=\"text-align: right;\">\n",
       "      <th></th>\n",
       "      <th>index</th>\n",
       "      <th>0</th>\n",
       "    </tr>\n",
       "  </thead>\n",
       "  <tbody>\n",
       "    <tr>\n",
       "      <th>0</th>\n",
       "      <td>instant</td>\n",
       "      <td>17379</td>\n",
       "    </tr>\n",
       "    <tr>\n",
       "      <th>1</th>\n",
       "      <td>dteday</td>\n",
       "      <td>731</td>\n",
       "    </tr>\n",
       "    <tr>\n",
       "      <th>2</th>\n",
       "      <td>season</td>\n",
       "      <td>4</td>\n",
       "    </tr>\n",
       "    <tr>\n",
       "      <th>3</th>\n",
       "      <td>yr</td>\n",
       "      <td>2</td>\n",
       "    </tr>\n",
       "    <tr>\n",
       "      <th>4</th>\n",
       "      <td>mnth</td>\n",
       "      <td>12</td>\n",
       "    </tr>\n",
       "    <tr>\n",
       "      <th>5</th>\n",
       "      <td>hr</td>\n",
       "      <td>24</td>\n",
       "    </tr>\n",
       "    <tr>\n",
       "      <th>6</th>\n",
       "      <td>holiday</td>\n",
       "      <td>2</td>\n",
       "    </tr>\n",
       "    <tr>\n",
       "      <th>7</th>\n",
       "      <td>weekday</td>\n",
       "      <td>7</td>\n",
       "    </tr>\n",
       "    <tr>\n",
       "      <th>8</th>\n",
       "      <td>workingday</td>\n",
       "      <td>2</td>\n",
       "    </tr>\n",
       "    <tr>\n",
       "      <th>9</th>\n",
       "      <td>weathersit</td>\n",
       "      <td>4</td>\n",
       "    </tr>\n",
       "    <tr>\n",
       "      <th>10</th>\n",
       "      <td>temp</td>\n",
       "      <td>50</td>\n",
       "    </tr>\n",
       "    <tr>\n",
       "      <th>11</th>\n",
       "      <td>atemp</td>\n",
       "      <td>65</td>\n",
       "    </tr>\n",
       "    <tr>\n",
       "      <th>12</th>\n",
       "      <td>hum</td>\n",
       "      <td>89</td>\n",
       "    </tr>\n",
       "    <tr>\n",
       "      <th>13</th>\n",
       "      <td>windspeed</td>\n",
       "      <td>30</td>\n",
       "    </tr>\n",
       "    <tr>\n",
       "      <th>14</th>\n",
       "      <td>casual</td>\n",
       "      <td>322</td>\n",
       "    </tr>\n",
       "    <tr>\n",
       "      <th>15</th>\n",
       "      <td>registered</td>\n",
       "      <td>776</td>\n",
       "    </tr>\n",
       "    <tr>\n",
       "      <th>16</th>\n",
       "      <td>cnt</td>\n",
       "      <td>869</td>\n",
       "    </tr>\n",
       "  </tbody>\n",
       "</table>\n",
       "</div>"
      ],
      "text/plain": [
       "         index      0\n",
       "0      instant  17379\n",
       "1       dteday    731\n",
       "2       season      4\n",
       "3           yr      2\n",
       "4         mnth     12\n",
       "5           hr     24\n",
       "6      holiday      2\n",
       "7      weekday      7\n",
       "8   workingday      2\n",
       "9   weathersit      4\n",
       "10        temp     50\n",
       "11       atemp     65\n",
       "12         hum     89\n",
       "13   windspeed     30\n",
       "14      casual    322\n",
       "15  registered    776\n",
       "16         cnt    869"
      ]
     },
     "execution_count": 6,
     "metadata": {},
     "output_type": "execute_result"
    }
   ],
   "source": [
    "# Interpretingt that as finding unique values, I guess?\n",
    "df.nunique().to_frame().reset_index()"
   ]
  },
  {
   "cell_type": "code",
   "execution_count": 7,
   "id": "67fcd015",
   "metadata": {},
   "outputs": [
    {
     "data": {
      "text/html": [
       "<div>\n",
       "<style scoped>\n",
       "    .dataframe tbody tr th:only-of-type {\n",
       "        vertical-align: middle;\n",
       "    }\n",
       "\n",
       "    .dataframe tbody tr th {\n",
       "        vertical-align: top;\n",
       "    }\n",
       "\n",
       "    .dataframe thead th {\n",
       "        text-align: right;\n",
       "    }\n",
       "</style>\n",
       "<table border=\"1\" class=\"dataframe\">\n",
       "  <thead>\n",
       "    <tr style=\"text-align: right;\">\n",
       "      <th></th>\n",
       "      <th>instant</th>\n",
       "      <th>dteday</th>\n",
       "      <th>season</th>\n",
       "      <th>yr</th>\n",
       "      <th>mnth</th>\n",
       "      <th>hr</th>\n",
       "      <th>holiday</th>\n",
       "      <th>weekday</th>\n",
       "      <th>workingday</th>\n",
       "      <th>weathersit</th>\n",
       "      <th>temp</th>\n",
       "      <th>atemp</th>\n",
       "      <th>hum</th>\n",
       "      <th>windspeed</th>\n",
       "      <th>casual</th>\n",
       "      <th>registered</th>\n",
       "      <th>cnt</th>\n",
       "    </tr>\n",
       "  </thead>\n",
       "  <tbody>\n",
       "    <tr>\n",
       "      <th>0</th>\n",
       "      <td>1</td>\n",
       "      <td>2011-01-01</td>\n",
       "      <td>spring</td>\n",
       "      <td>0</td>\n",
       "      <td>jan</td>\n",
       "      <td>0</td>\n",
       "      <td>no</td>\n",
       "      <td>saturday</td>\n",
       "      <td>no</td>\n",
       "      <td>clear</td>\n",
       "      <td>0.24</td>\n",
       "      <td>0.2879</td>\n",
       "      <td>0.81</td>\n",
       "      <td>0.0000</td>\n",
       "      <td>3</td>\n",
       "      <td>13</td>\n",
       "      <td>16</td>\n",
       "    </tr>\n",
       "    <tr>\n",
       "      <th>1</th>\n",
       "      <td>2</td>\n",
       "      <td>2011-01-01</td>\n",
       "      <td>spring</td>\n",
       "      <td>0</td>\n",
       "      <td>jan</td>\n",
       "      <td>1</td>\n",
       "      <td>no</td>\n",
       "      <td>saturday</td>\n",
       "      <td>no</td>\n",
       "      <td>clear</td>\n",
       "      <td>0.22</td>\n",
       "      <td>0.2727</td>\n",
       "      <td>0.80</td>\n",
       "      <td>0.0000</td>\n",
       "      <td>8</td>\n",
       "      <td>32</td>\n",
       "      <td>40</td>\n",
       "    </tr>\n",
       "    <tr>\n",
       "      <th>2</th>\n",
       "      <td>3</td>\n",
       "      <td>2011-01-01</td>\n",
       "      <td>spring</td>\n",
       "      <td>0</td>\n",
       "      <td>jan</td>\n",
       "      <td>2</td>\n",
       "      <td>no</td>\n",
       "      <td>saturday</td>\n",
       "      <td>no</td>\n",
       "      <td>clear</td>\n",
       "      <td>0.22</td>\n",
       "      <td>0.2727</td>\n",
       "      <td>0.80</td>\n",
       "      <td>0.0000</td>\n",
       "      <td>5</td>\n",
       "      <td>27</td>\n",
       "      <td>32</td>\n",
       "    </tr>\n",
       "    <tr>\n",
       "      <th>3</th>\n",
       "      <td>4</td>\n",
       "      <td>2011-01-01</td>\n",
       "      <td>spring</td>\n",
       "      <td>0</td>\n",
       "      <td>jan</td>\n",
       "      <td>3</td>\n",
       "      <td>no</td>\n",
       "      <td>saturday</td>\n",
       "      <td>no</td>\n",
       "      <td>clear</td>\n",
       "      <td>0.24</td>\n",
       "      <td>0.2879</td>\n",
       "      <td>0.75</td>\n",
       "      <td>0.0000</td>\n",
       "      <td>3</td>\n",
       "      <td>10</td>\n",
       "      <td>13</td>\n",
       "    </tr>\n",
       "    <tr>\n",
       "      <th>4</th>\n",
       "      <td>5</td>\n",
       "      <td>2011-01-01</td>\n",
       "      <td>spring</td>\n",
       "      <td>0</td>\n",
       "      <td>jan</td>\n",
       "      <td>4</td>\n",
       "      <td>no</td>\n",
       "      <td>saturday</td>\n",
       "      <td>no</td>\n",
       "      <td>clear</td>\n",
       "      <td>0.24</td>\n",
       "      <td>0.2879</td>\n",
       "      <td>0.75</td>\n",
       "      <td>0.0000</td>\n",
       "      <td>0</td>\n",
       "      <td>1</td>\n",
       "      <td>1</td>\n",
       "    </tr>\n",
       "    <tr>\n",
       "      <th>...</th>\n",
       "      <td>...</td>\n",
       "      <td>...</td>\n",
       "      <td>...</td>\n",
       "      <td>...</td>\n",
       "      <td>...</td>\n",
       "      <td>...</td>\n",
       "      <td>...</td>\n",
       "      <td>...</td>\n",
       "      <td>...</td>\n",
       "      <td>...</td>\n",
       "      <td>...</td>\n",
       "      <td>...</td>\n",
       "      <td>...</td>\n",
       "      <td>...</td>\n",
       "      <td>...</td>\n",
       "      <td>...</td>\n",
       "      <td>...</td>\n",
       "    </tr>\n",
       "    <tr>\n",
       "      <th>17374</th>\n",
       "      <td>17375</td>\n",
       "      <td>2012-12-31</td>\n",
       "      <td>spring</td>\n",
       "      <td>1</td>\n",
       "      <td>dec</td>\n",
       "      <td>19</td>\n",
       "      <td>no</td>\n",
       "      <td>monday</td>\n",
       "      <td>yes</td>\n",
       "      <td>mist</td>\n",
       "      <td>0.26</td>\n",
       "      <td>0.2576</td>\n",
       "      <td>0.60</td>\n",
       "      <td>0.1642</td>\n",
       "      <td>11</td>\n",
       "      <td>108</td>\n",
       "      <td>119</td>\n",
       "    </tr>\n",
       "    <tr>\n",
       "      <th>17375</th>\n",
       "      <td>17376</td>\n",
       "      <td>2012-12-31</td>\n",
       "      <td>spring</td>\n",
       "      <td>1</td>\n",
       "      <td>dec</td>\n",
       "      <td>20</td>\n",
       "      <td>no</td>\n",
       "      <td>monday</td>\n",
       "      <td>yes</td>\n",
       "      <td>mist</td>\n",
       "      <td>0.26</td>\n",
       "      <td>0.2576</td>\n",
       "      <td>0.60</td>\n",
       "      <td>0.1642</td>\n",
       "      <td>8</td>\n",
       "      <td>81</td>\n",
       "      <td>89</td>\n",
       "    </tr>\n",
       "    <tr>\n",
       "      <th>17376</th>\n",
       "      <td>17377</td>\n",
       "      <td>2012-12-31</td>\n",
       "      <td>spring</td>\n",
       "      <td>1</td>\n",
       "      <td>dec</td>\n",
       "      <td>21</td>\n",
       "      <td>no</td>\n",
       "      <td>monday</td>\n",
       "      <td>yes</td>\n",
       "      <td>clear</td>\n",
       "      <td>0.26</td>\n",
       "      <td>0.2576</td>\n",
       "      <td>0.60</td>\n",
       "      <td>0.1642</td>\n",
       "      <td>7</td>\n",
       "      <td>83</td>\n",
       "      <td>90</td>\n",
       "    </tr>\n",
       "    <tr>\n",
       "      <th>17377</th>\n",
       "      <td>17378</td>\n",
       "      <td>2012-12-31</td>\n",
       "      <td>spring</td>\n",
       "      <td>1</td>\n",
       "      <td>dec</td>\n",
       "      <td>22</td>\n",
       "      <td>no</td>\n",
       "      <td>monday</td>\n",
       "      <td>yes</td>\n",
       "      <td>clear</td>\n",
       "      <td>0.26</td>\n",
       "      <td>0.2727</td>\n",
       "      <td>0.56</td>\n",
       "      <td>0.1343</td>\n",
       "      <td>13</td>\n",
       "      <td>48</td>\n",
       "      <td>61</td>\n",
       "    </tr>\n",
       "    <tr>\n",
       "      <th>17378</th>\n",
       "      <td>17379</td>\n",
       "      <td>2012-12-31</td>\n",
       "      <td>spring</td>\n",
       "      <td>1</td>\n",
       "      <td>dec</td>\n",
       "      <td>23</td>\n",
       "      <td>no</td>\n",
       "      <td>monday</td>\n",
       "      <td>yes</td>\n",
       "      <td>clear</td>\n",
       "      <td>0.26</td>\n",
       "      <td>0.2727</td>\n",
       "      <td>0.65</td>\n",
       "      <td>0.1343</td>\n",
       "      <td>12</td>\n",
       "      <td>37</td>\n",
       "      <td>49</td>\n",
       "    </tr>\n",
       "  </tbody>\n",
       "</table>\n",
       "<p>17379 rows × 17 columns</p>\n",
       "</div>"
      ],
      "text/plain": [
       "       instant      dteday  season yr mnth  hr holiday   weekday workingday  \\\n",
       "0            1  2011-01-01  spring  0  jan   0      no  saturday         no   \n",
       "1            2  2011-01-01  spring  0  jan   1      no  saturday         no   \n",
       "2            3  2011-01-01  spring  0  jan   2      no  saturday         no   \n",
       "3            4  2011-01-01  spring  0  jan   3      no  saturday         no   \n",
       "4            5  2011-01-01  spring  0  jan   4      no  saturday         no   \n",
       "...        ...         ...     ... ..  ...  ..     ...       ...        ...   \n",
       "17374    17375  2012-12-31  spring  1  dec  19      no    monday        yes   \n",
       "17375    17376  2012-12-31  spring  1  dec  20      no    monday        yes   \n",
       "17376    17377  2012-12-31  spring  1  dec  21      no    monday        yes   \n",
       "17377    17378  2012-12-31  spring  1  dec  22      no    monday        yes   \n",
       "17378    17379  2012-12-31  spring  1  dec  23      no    monday        yes   \n",
       "\n",
       "      weathersit  temp   atemp   hum  windspeed  casual  registered  cnt  \n",
       "0          clear  0.24  0.2879  0.81     0.0000       3          13   16  \n",
       "1          clear  0.22  0.2727  0.80     0.0000       8          32   40  \n",
       "2          clear  0.22  0.2727  0.80     0.0000       5          27   32  \n",
       "3          clear  0.24  0.2879  0.75     0.0000       3          10   13  \n",
       "4          clear  0.24  0.2879  0.75     0.0000       0           1    1  \n",
       "...          ...   ...     ...   ...        ...     ...         ...  ...  \n",
       "17374       mist  0.26  0.2576  0.60     0.1642      11         108  119  \n",
       "17375       mist  0.26  0.2576  0.60     0.1642       8          81   89  \n",
       "17376      clear  0.26  0.2576  0.60     0.1642       7          83   90  \n",
       "17377      clear  0.26  0.2727  0.56     0.1343      13          48   61  \n",
       "17378      clear  0.26  0.2727  0.65     0.1343      12          37   49  \n",
       "\n",
       "[17379 rows x 17 columns]"
      ]
     },
     "execution_count": 7,
     "metadata": {},
     "output_type": "execute_result"
    }
   ],
   "source": [
    "# recoding categorical data to make graphs easier to read\n",
    "month_dict = {1: 'jan', 2: 'feb', 3: 'mar', 4: 'apr', 5: 'may', 6: 'jun', 7: 'jul', 8: 'aug', 9: 'sept', 10: 'oct', 11: 'nov', 12: 'dec'}\n",
    "season_dict = {1: 'spring', 2: 'summer', 3: 'fall', 4: 'winter'}\n",
    "day_dict = {0: 'sunday', 1: 'monday', 2: 'tuesday', 3: 'wednesday', 4: 'thursday', 5: 'friday', 6: 'saturday'}\n",
    "weather_dict = {1: 'clear', 2: 'mist', 3: 'light_snow', 4: 'heavy_rain'} \n",
    "df_names = df.copy()\n",
    "df_names['mnth'] = df['mnth'].replace(month_dict)\n",
    "df_names['season'] = df['season'].replace(season_dict)\n",
    "df_names['weekday'] = df['weekday'].replace(day_dict)\n",
    "df_names['weathersit'] = df['weathersit'].replace(weather_dict)\n",
    "df_names['workingday'] = df['workingday'].replace({0: 'no', 1: 'yes'})\n",
    "df_names['holiday'] = df['holiday'].replace({0: 'no', 1: 'yes'})\n",
    "df_names"
   ]
  },
  {
   "cell_type": "code",
   "execution_count": 8,
   "id": "315f187d",
   "metadata": {},
   "outputs": [],
   "source": [
    "# General descriptive analysis\n",
    "#profile = ProfileReport(df_names, title=\"Pandas Profile Report\",explorative=True)\n",
    "#profile"
   ]
  },
  {
   "cell_type": "code",
   "execution_count": 9,
   "id": "2f4636be",
   "metadata": {},
   "outputs": [
    {
     "name": "stdout",
     "output_type": "stream",
     "text": [
      "Most bikes rented in:  1061129  in  fall\n",
      "Fewest bikes rented in:  471348  in  spring\n"
     ]
    },
    {
     "data": {
      "image/png": "[encoded data removed]",
      "text/plain": [
       "<Figure size 1080x576 with 1 Axes>"
      ]
     },
     "metadata": {
      "needs_background": "light"
     },
     "output_type": "display_data"
    }
   ],
   "source": [
    "# seasonal graph\n",
    "plt.figure(figsize = (15,8))\n",
    "df_names.groupby('season').cnt.sum().plot(kind='bar');\n",
    "\n",
    "print('Most bikes rented in: ', df_names.groupby(['season']).sum(['cnt'])['cnt'].max(), ' in ', df_names.groupby(['season']).sum(['cnt'])['cnt'].idxmax())\n",
    "print('Fewest bikes rented in: ', df_names.groupby(['season']).sum(['cnt'])['cnt'].min(), ' in ', df_names.groupby(['season']).sum(['cnt'])['cnt'].idxmin())"
   ]
  },
  {
   "cell_type": "code",
   "execution_count": 10,
   "id": "666e6bee",
   "metadata": {},
   "outputs": [
    {
     "name": "stdout",
     "output_type": "stream",
     "text": [
      "Workdays sees more than twice as many bike rentals, presumably by commuters\n"
     ]
    },
    {
     "data": {
      "image/png": "[encoded data removed]",
      "text/plain": [
       "<Figure size 1080x576 with 1 Axes>"
      ]
     },
     "metadata": {
      "needs_background": "light"
     },
     "output_type": "display_data"
    }
   ],
   "source": [
    "# working day graph\n",
    "plt.figure(figsize = (15,8))\n",
    "df_names.groupby('workingday').cnt.sum().plot(kind='bar');\n",
    "print('Workdays sees more than twice as many bike rentals, presumably by commuters')"
   ]
  },
  {
   "cell_type": "code",
   "execution_count": 11,
   "id": "05a8db72",
   "metadata": {},
   "outputs": [
    {
     "data": {
      "text/plain": [
       "mnth\n",
       "aug     351194\n",
       "jun     346342\n",
       "sept    345991\n",
       "jul     344948\n",
       "may     331686\n",
       "oct     322352\n",
       "apr     269094\n",
       "nov     254831\n",
       "mar     228920\n",
       "dec     211036\n",
       "feb     151352\n",
       "jan     134933\n",
       "Name: cnt, dtype: int64"
      ]
     },
     "execution_count": 11,
     "metadata": {},
     "output_type": "execute_result"
    },
    {
     "data": {
      "image/png": "[encoded data removed]",
      "text/plain": [
       "<Figure size 1080x576 with 1 Axes>"
      ]
     },
     "metadata": {
      "needs_background": "light"
     },
     "output_type": "display_data"
    }
   ],
   "source": [
    "# month graph\n",
    "plt.figure(figsize = (15,8))\n",
    "df_names.groupby('mnth').cnt.sum().plot(kind='bar');\n",
    "df_names.groupby('mnth').cnt.sum().sort_values(ascending=False)"
   ]
  },
  {
   "cell_type": "code",
   "execution_count": 12,
   "id": "480dc268",
   "metadata": {},
   "outputs": [
    {
     "name": "stdout",
     "output_type": "stream",
     "text": [
      "The busiest months for bike rental are August, June, and September\n"
     ]
    }
   ],
   "source": [
    "print('The busiest months for bike rental are August, June, and September')"
   ]
  },
  {
   "cell_type": "code",
   "execution_count": 13,
   "id": "36e64a88",
   "metadata": {},
   "outputs": [
    {
     "data": {
      "text/plain": [
       "season\n",
       "fall      [jun, jul, aug, sept]\n",
       "spring     [jan, feb, mar, dec]\n",
       "summer     [mar, apr, may, jun]\n",
       "winter    [sept, oct, nov, dec]\n",
       "Name: mnth, dtype: object"
      ]
     },
     "execution_count": 13,
     "metadata": {},
     "output_type": "execute_result"
    }
   ],
   "source": [
    "# months per season\n",
    "df_names.groupby('season')['mnth'].unique()"
   ]
  },
  {
   "cell_type": "code",
   "execution_count": 14,
   "id": "6c7d6f62",
   "metadata": {},
   "outputs": [
    {
     "data": {
      "text/plain": [
       "weathersit\n",
       "clear         2338173\n",
       "mist           795952\n",
       "light_snow     158331\n",
       "heavy_rain        223\n",
       "Name: cnt, dtype: int64"
      ]
     },
     "execution_count": 14,
     "metadata": {},
     "output_type": "execute_result"
    },
    {
     "data": {
      "image/png": "[encoded data removed]",
      "text/plain": [
       "<Figure size 1080x576 with 1 Axes>"
      ]
     },
     "metadata": {
      "needs_background": "light"
     },
     "output_type": "display_data"
    }
   ],
   "source": [
    "# weather graph\n",
    "plt.figure(figsize = (15,8))\n",
    "df_names.groupby('weathersit').cnt.sum().plot(kind='bar');\n",
    "df_names.groupby('weathersit').cnt.sum().sort_values(ascending=False)"
   ]
  },
  {
   "cell_type": "code",
   "execution_count": 15,
   "id": "67e412ab",
   "metadata": {},
   "outputs": [
    {
     "name": "stdout",
     "output_type": "stream",
     "text": [
      "Clear weather sees the most bike rentals, followed by mist, light snow, and heavy rain. Each step down is fairly drastic.\n"
     ]
    }
   ],
   "source": [
    "print('Clear weather sees the most bike rentals, followed by mist, light snow, and heavy rain. Each step down is fairly drastic.')"
   ]
  },
  {
   "cell_type": "code",
   "execution_count": 16,
   "id": "246e5c48",
   "metadata": {},
   "outputs": [
    {
     "data": {
      "image/png": "[encoded data removed]",
      "text/plain": [
       "<Figure size 1080x576 with 1 Axes>"
      ]
     },
     "metadata": {
      "needs_background": "light"
     },
     "output_type": "display_data"
    }
   ],
   "source": [
    "#Implement a point plot of weathersit on the x-axis, count on the y-axis, and\n",
    "#the season as the hue. Document how season and weathersit are related. # df_names.groupby('weathersit').cnt.sum()\n",
    "plt.figure(figsize = (15,8))\n",
    "sns.scatterplot(x=df_names['weathersit'],y=df_names['cnt'], hue=df_names['season'], alpha = .5);"
   ]
  },
  {
   "cell_type": "markdown",
   "id": "9b011ee8",
   "metadata": {},
   "source": [
    "Heavy rain only occurred in spring. There isn't a lot of snow in the summer. There are a lot of clear days in summer. Clear and misty days have a higher distribution on the y-axis."
   ]
  },
  {
   "cell_type": "code",
   "execution_count": 17,
   "id": "5ce5a28f",
   "metadata": {},
   "outputs": [
    {
     "data": {
      "text/plain": [
       "<AxesSubplot:xlabel='hr', ylabel='cnt'>"
      ]
     },
     "execution_count": 17,
     "metadata": {},
     "output_type": "execute_result"
    },
    {
     "data": {
      "image/png": "[encoded data removed]",
      "text/plain": [
       "<Figure size 1080x576 with 1 Axes>"
      ]
     },
     "metadata": {
      "needs_background": "light"
     },
     "output_type": "display_data"
    }
   ],
   "source": [
    "plt.figure(figsize = (15,8))\n",
    "#df_names.groupby('weathersit').cnt.sum().plot(kind='bar');\n",
    "sns.barplot(x=df_names['hr'],y=df_names['cnt'])"
   ]
  },
  {
   "cell_type": "markdown",
   "id": "82a6142b",
   "metadata": {},
   "source": [
    "There are few bike rentals in the late night/early morning, a spike starting in the mid/late morning that levels off until another spike in the early evening. This would be consistent with customers renting bikes for morning commutes to work, evening commutes home, and the assumption that people do not tend to ride bicycles while sleeping."
   ]
  },
  {
   "cell_type": "code",
   "execution_count": 18,
   "id": "f958685b",
   "metadata": {},
   "outputs": [
    {
     "data": {
      "image/png": "[encoded data removed]",
      "text/plain": [
       "<Figure size 1080x1296 with 2 Axes>"
      ]
     },
     "metadata": {
      "needs_background": "light"
     },
     "output_type": "display_data"
    }
   ],
   "source": [
    "fig, ax = plt.subplots(2, figsize=(15,18))\n",
    "\n",
    "ax[0].set_title('Rentals vs. Hour on all non-working days')\n",
    "off = df_names[df_names['workingday']=='no']\n",
    "sns.barplot(ax=ax[0],x=off['hr'],y=off['cnt'])\n",
    "\n",
    "ax[1].set_title('Rentals vs. Hour on weekends')\n",
    "weekend = df_names[df_names['weekday'].isin(['saturday','sunday'])]\n",
    "sns.barplot(ax=ax[1],x=weekend['hr'],y=weekend['cnt'])\n",
    "\n",
    "plt.show();"
   ]
  },
  {
   "cell_type": "markdown",
   "id": "47598c07",
   "metadata": {},
   "source": [
    "Distribution of bike rental times is much more spread out on non-working days. Presumably because on these days appointments are less regularized, and it is more common for cyclist to ride bicycles recreationally with no set schedule."
   ]
  },
  {
   "cell_type": "markdown",
   "id": "9767b358",
   "metadata": {},
   "source": [
    "# Part 2"
   ]
  },
  {
   "cell_type": "code",
   "execution_count": 19,
   "id": "f74f885c",
   "metadata": {},
   "outputs": [
    {
     "data": {
      "image/png": "[encoded data removed]",
      "text/plain": [
       "<Figure size 720x720 with 2 Axes>"
      ]
     },
     "metadata": {
      "needs_background": "light"
     },
     "output_type": "display_data"
    }
   ],
   "source": [
    "corr=df_names.corr()\n",
    "plt.figure(figsize = (10,10))\n",
    "sns.heatmap(corr);"
   ]
  },
  {
   "cell_type": "markdown",
   "id": "6c3db867",
   "metadata": {},
   "source": [
    "Both years had similar humidity and an incredibly similar number of hours. Humidity has a strong negative relationship with rentals in general, but it has less correlation with use by registered users. Higher temperatures see more riders, with a greater seeming effect on casual/recreational riders. Windspeed has a negative relationship with humidity and temperature, but does not on its own appear to relate to rentals. Hour of the day has a signficant correlation with overall ridership, particularly with registered users. I would guess this corresponds to registered users biking to and from work at set times."
   ]
  },
  {
   "cell_type": "code",
   "execution_count": 20,
   "id": "8b788b98",
   "metadata": {},
   "outputs": [
    {
     "data": {
      "text/plain": [
       "Index(['instant', 'dteday', 'season', 'yr', 'mnth', 'hr', 'holiday', 'weekday',\n",
       "       'workingday', 'weathersit', 'temp', 'atemp', 'hum', 'windspeed',\n",
       "       'casual', 'registered', 'cnt'],\n",
       "      dtype='object')"
      ]
     },
     "execution_count": 20,
     "metadata": {},
     "output_type": "execute_result"
    }
   ],
   "source": [
    "df.columns"
   ]
  },
  {
   "cell_type": "code",
   "execution_count": 21,
   "id": "c7d5085a",
   "metadata": {},
   "outputs": [
    {
     "data": {
      "text/html": [
       "<div>\n",
       "<style scoped>\n",
       "    .dataframe tbody tr th:only-of-type {\n",
       "        vertical-align: middle;\n",
       "    }\n",
       "\n",
       "    .dataframe tbody tr th {\n",
       "        vertical-align: top;\n",
       "    }\n",
       "\n",
       "    .dataframe thead th {\n",
       "        text-align: right;\n",
       "    }\n",
       "</style>\n",
       "<table border=\"1\" class=\"dataframe\">\n",
       "  <thead>\n",
       "    <tr style=\"text-align: right;\">\n",
       "      <th></th>\n",
       "      <th>season</th>\n",
       "      <th>yr</th>\n",
       "      <th>mnth</th>\n",
       "      <th>hr</th>\n",
       "      <th>holiday</th>\n",
       "      <th>weekday</th>\n",
       "      <th>workingday</th>\n",
       "      <th>weathersit</th>\n",
       "      <th>temp</th>\n",
       "      <th>atemp</th>\n",
       "      <th>hum</th>\n",
       "      <th>windspeed</th>\n",
       "      <th>cnt</th>\n",
       "    </tr>\n",
       "  </thead>\n",
       "  <tbody>\n",
       "    <tr>\n",
       "      <th>0</th>\n",
       "      <td>1</td>\n",
       "      <td>0</td>\n",
       "      <td>1</td>\n",
       "      <td>0</td>\n",
       "      <td>0</td>\n",
       "      <td>6</td>\n",
       "      <td>0</td>\n",
       "      <td>1</td>\n",
       "      <td>-1.334648</td>\n",
       "      <td>-1.093281</td>\n",
       "      <td>0.947372</td>\n",
       "      <td>-1.553889</td>\n",
       "      <td>-0.956339</td>\n",
       "    </tr>\n",
       "    <tr>\n",
       "      <th>1</th>\n",
       "      <td>1</td>\n",
       "      <td>0</td>\n",
       "      <td>1</td>\n",
       "      <td>1</td>\n",
       "      <td>0</td>\n",
       "      <td>6</td>\n",
       "      <td>0</td>\n",
       "      <td>1</td>\n",
       "      <td>-1.438516</td>\n",
       "      <td>-1.181732</td>\n",
       "      <td>0.895539</td>\n",
       "      <td>-1.553889</td>\n",
       "      <td>-0.824022</td>\n",
       "    </tr>\n",
       "    <tr>\n",
       "      <th>2</th>\n",
       "      <td>1</td>\n",
       "      <td>0</td>\n",
       "      <td>1</td>\n",
       "      <td>2</td>\n",
       "      <td>0</td>\n",
       "      <td>6</td>\n",
       "      <td>0</td>\n",
       "      <td>1</td>\n",
       "      <td>-1.438516</td>\n",
       "      <td>-1.181732</td>\n",
       "      <td>0.895539</td>\n",
       "      <td>-1.553889</td>\n",
       "      <td>-0.868128</td>\n",
       "    </tr>\n",
       "    <tr>\n",
       "      <th>3</th>\n",
       "      <td>1</td>\n",
       "      <td>0</td>\n",
       "      <td>1</td>\n",
       "      <td>3</td>\n",
       "      <td>0</td>\n",
       "      <td>6</td>\n",
       "      <td>0</td>\n",
       "      <td>1</td>\n",
       "      <td>-1.334648</td>\n",
       "      <td>-1.093281</td>\n",
       "      <td>0.636370</td>\n",
       "      <td>-1.553889</td>\n",
       "      <td>-0.972879</td>\n",
       "    </tr>\n",
       "    <tr>\n",
       "      <th>4</th>\n",
       "      <td>1</td>\n",
       "      <td>0</td>\n",
       "      <td>1</td>\n",
       "      <td>4</td>\n",
       "      <td>0</td>\n",
       "      <td>6</td>\n",
       "      <td>0</td>\n",
       "      <td>1</td>\n",
       "      <td>-1.334648</td>\n",
       "      <td>-1.093281</td>\n",
       "      <td>0.636370</td>\n",
       "      <td>-1.553889</td>\n",
       "      <td>-1.039037</td>\n",
       "    </tr>\n",
       "    <tr>\n",
       "      <th>...</th>\n",
       "      <td>...</td>\n",
       "      <td>...</td>\n",
       "      <td>...</td>\n",
       "      <td>...</td>\n",
       "      <td>...</td>\n",
       "      <td>...</td>\n",
       "      <td>...</td>\n",
       "      <td>...</td>\n",
       "      <td>...</td>\n",
       "      <td>...</td>\n",
       "      <td>...</td>\n",
       "      <td>...</td>\n",
       "      <td>...</td>\n",
       "    </tr>\n",
       "    <tr>\n",
       "      <th>17374</th>\n",
       "      <td>1</td>\n",
       "      <td>1</td>\n",
       "      <td>12</td>\n",
       "      <td>19</td>\n",
       "      <td>0</td>\n",
       "      <td>1</td>\n",
       "      <td>1</td>\n",
       "      <td>2</td>\n",
       "      <td>-1.230779</td>\n",
       "      <td>-1.269602</td>\n",
       "      <td>-0.141137</td>\n",
       "      <td>-0.211691</td>\n",
       "      <td>-0.388478</td>\n",
       "    </tr>\n",
       "    <tr>\n",
       "      <th>17375</th>\n",
       "      <td>1</td>\n",
       "      <td>1</td>\n",
       "      <td>12</td>\n",
       "      <td>20</td>\n",
       "      <td>0</td>\n",
       "      <td>1</td>\n",
       "      <td>1</td>\n",
       "      <td>2</td>\n",
       "      <td>-1.230779</td>\n",
       "      <td>-1.269602</td>\n",
       "      <td>-0.141137</td>\n",
       "      <td>-0.211691</td>\n",
       "      <td>-0.553875</td>\n",
       "    </tr>\n",
       "    <tr>\n",
       "      <th>17376</th>\n",
       "      <td>1</td>\n",
       "      <td>1</td>\n",
       "      <td>12</td>\n",
       "      <td>21</td>\n",
       "      <td>0</td>\n",
       "      <td>1</td>\n",
       "      <td>1</td>\n",
       "      <td>1</td>\n",
       "      <td>-1.230779</td>\n",
       "      <td>-1.269602</td>\n",
       "      <td>-0.141137</td>\n",
       "      <td>-0.211691</td>\n",
       "      <td>-0.548361</td>\n",
       "    </tr>\n",
       "    <tr>\n",
       "      <th>17377</th>\n",
       "      <td>1</td>\n",
       "      <td>1</td>\n",
       "      <td>12</td>\n",
       "      <td>22</td>\n",
       "      <td>0</td>\n",
       "      <td>1</td>\n",
       "      <td>1</td>\n",
       "      <td>1</td>\n",
       "      <td>-1.230779</td>\n",
       "      <td>-1.181732</td>\n",
       "      <td>-0.348473</td>\n",
       "      <td>-0.456099</td>\n",
       "      <td>-0.708245</td>\n",
       "    </tr>\n",
       "    <tr>\n",
       "      <th>17378</th>\n",
       "      <td>1</td>\n",
       "      <td>1</td>\n",
       "      <td>12</td>\n",
       "      <td>23</td>\n",
       "      <td>0</td>\n",
       "      <td>1</td>\n",
       "      <td>1</td>\n",
       "      <td>1</td>\n",
       "      <td>-1.230779</td>\n",
       "      <td>-1.181732</td>\n",
       "      <td>0.118032</td>\n",
       "      <td>-0.456099</td>\n",
       "      <td>-0.774403</td>\n",
       "    </tr>\n",
       "  </tbody>\n",
       "</table>\n",
       "<p>17379 rows × 13 columns</p>\n",
       "</div>"
      ],
      "text/plain": [
       "      season yr mnth  hr holiday weekday workingday weathersit      temp  \\\n",
       "0          1  0    1   0       0       6          0          1 -1.334648   \n",
       "1          1  0    1   1       0       6          0          1 -1.438516   \n",
       "2          1  0    1   2       0       6          0          1 -1.438516   \n",
       "3          1  0    1   3       0       6          0          1 -1.334648   \n",
       "4          1  0    1   4       0       6          0          1 -1.334648   \n",
       "...      ... ..  ...  ..     ...     ...        ...        ...       ...   \n",
       "17374      1  1   12  19       0       1          1          2 -1.230779   \n",
       "17375      1  1   12  20       0       1          1          2 -1.230779   \n",
       "17376      1  1   12  21       0       1          1          1 -1.230779   \n",
       "17377      1  1   12  22       0       1          1          1 -1.230779   \n",
       "17378      1  1   12  23       0       1          1          1 -1.230779   \n",
       "\n",
       "          atemp       hum  windspeed       cnt  \n",
       "0     -1.093281  0.947372  -1.553889 -0.956339  \n",
       "1     -1.181732  0.895539  -1.553889 -0.824022  \n",
       "2     -1.181732  0.895539  -1.553889 -0.868128  \n",
       "3     -1.093281  0.636370  -1.553889 -0.972879  \n",
       "4     -1.093281  0.636370  -1.553889 -1.039037  \n",
       "...         ...       ...        ...       ...  \n",
       "17374 -1.269602 -0.141137  -0.211691 -0.388478  \n",
       "17375 -1.269602 -0.141137  -0.211691 -0.553875  \n",
       "17376 -1.269602 -0.141137  -0.211691 -0.548361  \n",
       "17377 -1.181732 -0.348473  -0.456099 -0.708245  \n",
       "17378 -1.181732  0.118032  -0.456099 -0.774403  \n",
       "\n",
       "[17379 rows x 13 columns]"
      ]
     },
     "execution_count": 21,
     "metadata": {},
     "output_type": "execute_result"
    }
   ],
   "source": [
    "# Data prep\n",
    "#numeric_cols = df_names.columns[df_names.dtypes.apply(lambda c: np.issubdtype(c, np.number))]\n",
    "numeric_cols = ['temp','atemp','hum','windspeed','casual','registered','cnt']\n",
    "scaler = StandardScaler()\n",
    "df[numeric_cols] = scaler.fit_transform(df_names[numeric_cols])\n",
    "df.drop(['casual','registered','dteday','instant'], axis=1, inplace=True)\n",
    "df"
   ]
  },
  {
   "cell_type": "code",
   "execution_count": 22,
   "id": "25b5de7c",
   "metadata": {},
   "outputs": [
    {
     "data": {
      "image/png": "[encoded data removed]",
      "text/plain": [
       "<Figure size 432x288 with 1 Axes>"
      ]
     },
     "metadata": {
      "needs_background": "light"
     },
     "output_type": "display_data"
    }
   ],
   "source": [
    "# Rental count histogram\n",
    "sns.histplot(df['cnt']);"
   ]
  },
  {
   "cell_type": "markdown",
   "id": "90388f05",
   "metadata": {},
   "source": [
    "The count of rentals is very left-skewed with most days seeing far fewer than the median number of rentals"
   ]
  },
  {
   "cell_type": "code",
   "execution_count": 23,
   "id": "e325ffbd",
   "metadata": {},
   "outputs": [],
   "source": [
    "# Train test split\n",
    "X = df.drop(['cnt'], axis=1)\n",
    "y = df['cnt']\n",
    "\n",
    "X_train, X_test, y_train, y_test = train_test_split(X, y, \\\n",
    "  test_size=0.33, random_state=0)"
   ]
  },
  {
   "cell_type": "code",
   "execution_count": 24,
   "id": "4ab4df05",
   "metadata": {},
   "outputs": [],
   "source": [
    "# Baseline OLS regression\n",
    "linear = LinearRegression()\n",
    "linear.fit(X_train,y_train)\n",
    "# Predictions\n",
    "y_pred = linear.predict(X_test)"
   ]
  },
  {
   "cell_type": "code",
   "execution_count": 25,
   "id": "93e1e8a1",
   "metadata": {},
   "outputs": [
    {
     "name": "stdout",
     "output_type": "stream",
     "text": [
      "Model scores for unaltered OLS regression model\n",
      "MSE:  0.6116977186498594\n",
      "RMSE:  0.782111065418371\n",
      "r^2:  0.3963666698105811\n"
     ]
    }
   ],
   "source": [
    "# Model scores\n",
    "scores = cross_val_score(linear, X, y, scoring='neg_mean_absolute_error',\n",
    "                         n_jobs=-1)\n",
    "print('Model scores for unaltered OLS regression model')\n",
    "print('MSE: ', mean(absolute(scores)))\n",
    "print('RMSE: ', sqrt(mean(absolute(scores))))\n",
    "print('r^2: ', r2_score(y_test, y_pred))"
   ]
  },
  {
   "cell_type": "code",
   "execution_count": 26,
   "id": "dfebce0d",
   "metadata": {},
   "outputs": [
    {
     "data": {
      "text/html": [
       "<div>\n",
       "<style scoped>\n",
       "    .dataframe tbody tr th:only-of-type {\n",
       "        vertical-align: middle;\n",
       "    }\n",
       "\n",
       "    .dataframe tbody tr th {\n",
       "        vertical-align: top;\n",
       "    }\n",
       "\n",
       "    .dataframe thead th {\n",
       "        text-align: right;\n",
       "    }\n",
       "</style>\n",
       "<table border=\"1\" class=\"dataframe\">\n",
       "  <thead>\n",
       "    <tr style=\"text-align: right;\">\n",
       "      <th></th>\n",
       "      <th>season</th>\n",
       "      <th>yr</th>\n",
       "      <th>mnth</th>\n",
       "      <th>hr</th>\n",
       "      <th>holiday</th>\n",
       "      <th>weekday</th>\n",
       "      <th>workingday</th>\n",
       "      <th>weathersit</th>\n",
       "      <th>temp</th>\n",
       "      <th>atemp</th>\n",
       "      <th>hum</th>\n",
       "      <th>windspeed</th>\n",
       "    </tr>\n",
       "  </thead>\n",
       "  <tbody>\n",
       "    <tr>\n",
       "      <th>0</th>\n",
       "      <td>1</td>\n",
       "      <td>0</td>\n",
       "      <td>1</td>\n",
       "      <td>0</td>\n",
       "      <td>0</td>\n",
       "      <td>6</td>\n",
       "      <td>0</td>\n",
       "      <td>1</td>\n",
       "      <td>-1.334648</td>\n",
       "      <td>-1.093281</td>\n",
       "      <td>0.947372</td>\n",
       "      <td>-1.553889</td>\n",
       "    </tr>\n",
       "    <tr>\n",
       "      <th>1</th>\n",
       "      <td>1</td>\n",
       "      <td>0</td>\n",
       "      <td>1</td>\n",
       "      <td>1</td>\n",
       "      <td>0</td>\n",
       "      <td>6</td>\n",
       "      <td>0</td>\n",
       "      <td>1</td>\n",
       "      <td>-1.438516</td>\n",
       "      <td>-1.181732</td>\n",
       "      <td>0.895539</td>\n",
       "      <td>-1.553889</td>\n",
       "    </tr>\n",
       "    <tr>\n",
       "      <th>2</th>\n",
       "      <td>1</td>\n",
       "      <td>0</td>\n",
       "      <td>1</td>\n",
       "      <td>2</td>\n",
       "      <td>0</td>\n",
       "      <td>6</td>\n",
       "      <td>0</td>\n",
       "      <td>1</td>\n",
       "      <td>-1.438516</td>\n",
       "      <td>-1.181732</td>\n",
       "      <td>0.895539</td>\n",
       "      <td>-1.553889</td>\n",
       "    </tr>\n",
       "    <tr>\n",
       "      <th>3</th>\n",
       "      <td>1</td>\n",
       "      <td>0</td>\n",
       "      <td>1</td>\n",
       "      <td>3</td>\n",
       "      <td>0</td>\n",
       "      <td>6</td>\n",
       "      <td>0</td>\n",
       "      <td>1</td>\n",
       "      <td>-1.334648</td>\n",
       "      <td>-1.093281</td>\n",
       "      <td>0.636370</td>\n",
       "      <td>-1.553889</td>\n",
       "    </tr>\n",
       "    <tr>\n",
       "      <th>4</th>\n",
       "      <td>1</td>\n",
       "      <td>0</td>\n",
       "      <td>1</td>\n",
       "      <td>4</td>\n",
       "      <td>0</td>\n",
       "      <td>6</td>\n",
       "      <td>0</td>\n",
       "      <td>1</td>\n",
       "      <td>-1.334648</td>\n",
       "      <td>-1.093281</td>\n",
       "      <td>0.636370</td>\n",
       "      <td>-1.553889</td>\n",
       "    </tr>\n",
       "    <tr>\n",
       "      <th>...</th>\n",
       "      <td>...</td>\n",
       "      <td>...</td>\n",
       "      <td>...</td>\n",
       "      <td>...</td>\n",
       "      <td>...</td>\n",
       "      <td>...</td>\n",
       "      <td>...</td>\n",
       "      <td>...</td>\n",
       "      <td>...</td>\n",
       "      <td>...</td>\n",
       "      <td>...</td>\n",
       "      <td>...</td>\n",
       "    </tr>\n",
       "    <tr>\n",
       "      <th>17374</th>\n",
       "      <td>1</td>\n",
       "      <td>1</td>\n",
       "      <td>12</td>\n",
       "      <td>19</td>\n",
       "      <td>0</td>\n",
       "      <td>1</td>\n",
       "      <td>1</td>\n",
       "      <td>2</td>\n",
       "      <td>-1.230779</td>\n",
       "      <td>-1.269602</td>\n",
       "      <td>-0.141137</td>\n",
       "      <td>-0.211691</td>\n",
       "    </tr>\n",
       "    <tr>\n",
       "      <th>17375</th>\n",
       "      <td>1</td>\n",
       "      <td>1</td>\n",
       "      <td>12</td>\n",
       "      <td>20</td>\n",
       "      <td>0</td>\n",
       "      <td>1</td>\n",
       "      <td>1</td>\n",
       "      <td>2</td>\n",
       "      <td>-1.230779</td>\n",
       "      <td>-1.269602</td>\n",
       "      <td>-0.141137</td>\n",
       "      <td>-0.211691</td>\n",
       "    </tr>\n",
       "    <tr>\n",
       "      <th>17376</th>\n",
       "      <td>1</td>\n",
       "      <td>1</td>\n",
       "      <td>12</td>\n",
       "      <td>21</td>\n",
       "      <td>0</td>\n",
       "      <td>1</td>\n",
       "      <td>1</td>\n",
       "      <td>1</td>\n",
       "      <td>-1.230779</td>\n",
       "      <td>-1.269602</td>\n",
       "      <td>-0.141137</td>\n",
       "      <td>-0.211691</td>\n",
       "    </tr>\n",
       "    <tr>\n",
       "      <th>17377</th>\n",
       "      <td>1</td>\n",
       "      <td>1</td>\n",
       "      <td>12</td>\n",
       "      <td>22</td>\n",
       "      <td>0</td>\n",
       "      <td>1</td>\n",
       "      <td>1</td>\n",
       "      <td>1</td>\n",
       "      <td>-1.230779</td>\n",
       "      <td>-1.181732</td>\n",
       "      <td>-0.348473</td>\n",
       "      <td>-0.456099</td>\n",
       "    </tr>\n",
       "    <tr>\n",
       "      <th>17378</th>\n",
       "      <td>1</td>\n",
       "      <td>1</td>\n",
       "      <td>12</td>\n",
       "      <td>23</td>\n",
       "      <td>0</td>\n",
       "      <td>1</td>\n",
       "      <td>1</td>\n",
       "      <td>1</td>\n",
       "      <td>-1.230779</td>\n",
       "      <td>-1.181732</td>\n",
       "      <td>0.118032</td>\n",
       "      <td>-0.456099</td>\n",
       "    </tr>\n",
       "  </tbody>\n",
       "</table>\n",
       "<p>17379 rows × 12 columns</p>\n",
       "</div>"
      ],
      "text/plain": [
       "      season yr mnth  hr holiday weekday workingday weathersit      temp  \\\n",
       "0          1  0    1   0       0       6          0          1 -1.334648   \n",
       "1          1  0    1   1       0       6          0          1 -1.438516   \n",
       "2          1  0    1   2       0       6          0          1 -1.438516   \n",
       "3          1  0    1   3       0       6          0          1 -1.334648   \n",
       "4          1  0    1   4       0       6          0          1 -1.334648   \n",
       "...      ... ..  ...  ..     ...     ...        ...        ...       ...   \n",
       "17374      1  1   12  19       0       1          1          2 -1.230779   \n",
       "17375      1  1   12  20       0       1          1          2 -1.230779   \n",
       "17376      1  1   12  21       0       1          1          1 -1.230779   \n",
       "17377      1  1   12  22       0       1          1          1 -1.230779   \n",
       "17378      1  1   12  23       0       1          1          1 -1.230779   \n",
       "\n",
       "          atemp       hum  windspeed  \n",
       "0     -1.093281  0.947372  -1.553889  \n",
       "1     -1.181732  0.895539  -1.553889  \n",
       "2     -1.181732  0.895539  -1.553889  \n",
       "3     -1.093281  0.636370  -1.553889  \n",
       "4     -1.093281  0.636370  -1.553889  \n",
       "...         ...       ...        ...  \n",
       "17374 -1.269602 -0.141137  -0.211691  \n",
       "17375 -1.269602 -0.141137  -0.211691  \n",
       "17376 -1.269602 -0.141137  -0.211691  \n",
       "17377 -1.181732 -0.348473  -0.456099  \n",
       "17378 -1.181732  0.118032  -0.456099  \n",
       "\n",
       "[17379 rows x 12 columns]"
      ]
     },
     "execution_count": 26,
     "metadata": {},
     "output_type": "execute_result"
    }
   ],
   "source": [
    "X"
   ]
  },
  {
   "cell_type": "markdown",
   "id": "261058bf",
   "metadata": {},
   "source": [
    "# Part 3"
   ]
  },
  {
   "cell_type": "code",
   "execution_count": 27,
   "id": "f60f798e",
   "metadata": {},
   "outputs": [],
   "source": [
    "# one-hot-encoding\n",
    "df = pd.get_dummies(df, drop_first=True)"
   ]
  },
  {
   "cell_type": "code",
   "execution_count": 28,
   "id": "4855f7fe",
   "metadata": {},
   "outputs": [
    {
     "data": {
      "text/plain": [
       "Index(['temp', 'atemp', 'hum', 'windspeed', 'cnt', 'season_2', 'season_3',\n",
       "       'season_4', 'yr_1', 'mnth_2', 'mnth_3', 'mnth_4', 'mnth_5', 'mnth_6',\n",
       "       'mnth_7', 'mnth_8', 'mnth_9', 'mnth_10', 'mnth_11', 'mnth_12', 'hr_1',\n",
       "       'hr_2', 'hr_3', 'hr_4', 'hr_5', 'hr_6', 'hr_7', 'hr_8', 'hr_9', 'hr_10',\n",
       "       'hr_11', 'hr_12', 'hr_13', 'hr_14', 'hr_15', 'hr_16', 'hr_17', 'hr_18',\n",
       "       'hr_19', 'hr_20', 'hr_21', 'hr_22', 'hr_23', 'holiday_1', 'weekday_1',\n",
       "       'weekday_2', 'weekday_3', 'weekday_4', 'weekday_5', 'weekday_6',\n",
       "       'workingday_1', 'weathersit_2', 'weathersit_3', 'weathersit_4'],\n",
       "      dtype='object')"
      ]
     },
     "execution_count": 28,
     "metadata": {},
     "output_type": "execute_result"
    }
   ],
   "source": [
    "df.columns"
   ]
  },
  {
   "cell_type": "code",
   "execution_count": 29,
   "id": "0bd339f6",
   "metadata": {},
   "outputs": [],
   "source": [
    "# New train test split\n",
    "X = df.drop(['cnt'], axis=1)\n",
    "y = df['cnt']\n",
    "\n",
    "X_train, X_test, y_train, y_test = train_test_split(X, y, \\\n",
    "  test_size=0.33, random_state=0)"
   ]
  },
  {
   "cell_type": "code",
   "execution_count": 30,
   "id": "ccba9053",
   "metadata": {},
   "outputs": [],
   "source": [
    "# Baseline OLS regression\n",
    "dummy_linear = LinearRegression()\n",
    "dummy_linear.fit(X_train,y_train)\n",
    "# Predictions\n",
    "y_pred = dummy_linear.predict(X_test)"
   ]
  },
  {
   "cell_type": "code",
   "execution_count": 31,
   "id": "73b40b68",
   "metadata": {},
   "outputs": [
    {
     "name": "stdout",
     "output_type": "stream",
     "text": [
      "Model scores for unaltered OLS regression model\n",
      "MSE:  0.4197652866852704\n",
      "RMSE:  0.6478929592805207\n",
      "r^2:  0.6803041547102933\n"
     ]
    }
   ],
   "source": [
    "# Model scores\n",
    "scores = cross_val_score(dummy_linear, X_test, y_test, scoring='neg_mean_absolute_error',\n",
    "                         n_jobs=-1)\n",
    "print('Model scores for unaltered OLS regression model')\n",
    "print('MSE: ', mean(absolute(scores)))\n",
    "print('RMSE: ', sqrt(mean(absolute(scores))))\n",
    "print('r^2: ', r2_score(y_test, y_pred))"
   ]
  },
  {
   "cell_type": "code",
   "execution_count": 32,
   "id": "f8c01c05",
   "metadata": {},
   "outputs": [],
   "source": [
    "'''o Implement and score a decision tree regressor with random_state=0.\n",
    "o Implement and score a RandomForestRegressor with random_state=0\n",
    "and n_esitmators=30.\n",
    "o Implement and score an SGDRegressor with max_iter=1000 and tol=1e3).\n",
    "o Implement and score a Lasso Regressor with alpha=0.1.\n",
    "o Implement and score an ElasticNet Regressor with random_state=0.\n",
    "o Implement and score a Ridge Regressor with ''';"
   ]
  },
  {
   "cell_type": "code",
   "execution_count": 33,
   "id": "b2829786",
   "metadata": {},
   "outputs": [
    {
     "name": "stdout",
     "output_type": "stream",
     "text": [
      "CROSS VAL SCORES FOLLOW:\n",
      "DT RMSE is 0.4391% with std=0.0234\n",
      "r^2:  0.8133053637209499\n"
     ]
    }
   ],
   "source": [
    "# Decision Tree Model\n",
    "DT_reg = DecisionTreeRegressor(random_state=0)\n",
    "DT_reg.fit(X_train, y_train)\n",
    "print(\"CROSS VAL SCORES FOLLOW:\")\n",
    "DTscores = cross_val_score(DT_reg, X_train, y_train, \\\n",
    "  scoring=\"neg_mean_squared_error\", cv=10)  \n",
    "DTresults = np.sqrt(-DTscores)\n",
    "y_pred = DT_reg.predict(X_test)\n",
    "print(f'DT RMSE is {DTresults.mean():.4f}% with std={DTresults.std():.4f}') \n",
    "print('r^2: ', r2_score(y_test, y_pred))"
   ]
  },
  {
   "cell_type": "code",
   "execution_count": 34,
   "id": "92dd4e29",
   "metadata": {},
   "outputs": [
    {
     "name": "stdout",
     "output_type": "stream",
     "text": [
      "RF RMSE is 0.3139% with std=0.0097\n",
      "r^2:  0.9048094568343179\n"
     ]
    }
   ],
   "source": [
    "# Random Forest Model\n",
    "RF_reg = RandomForestRegressor(random_state=0, n_estimators = 30)\n",
    "RF_reg.fit(X_train, y_train)\n",
    "RFscores = cross_val_score(RF_reg, X_train, y_train, \\\n",
    "  scoring=\"neg_mean_squared_error\", cv=10)\n",
    "RFresults = np.sqrt(-RFscores)\n",
    "y_pred = RF_reg.predict(X_test)\n",
    "print(f'RF RMSE is {RFresults.mean():.4f}% with std={RFresults.std():.4f}') \n",
    "print('r^2: ', r2_score(y_test, y_pred))"
   ]
  },
  {
   "cell_type": "code",
   "execution_count": 35,
   "id": "8624a1bf",
   "metadata": {},
   "outputs": [
    {
     "name": "stdout",
     "output_type": "stream",
     "text": [
      "SGD RMSE is 0.6547% with std=0.0052\n",
      "r^2:  0.6661482914603141\n"
     ]
    }
   ],
   "source": [
    "# SGDRegressor\n",
    "sgd_reg = SGDRegressor(max_iter=1000, tol=.001)\n",
    "sgd_reg.fit(X_train,y_train)\n",
    "scores = cross_val_score(sgd_reg, X_train, y_train, scoring='neg_mean_absolute_error',\n",
    "                         n_jobs=-1)\n",
    "sgd_results = np.sqrt(-scores)\n",
    "y_pred = sgd_reg.predict(X_test)\n",
    "print(f'SGD RMSE is {sgd_results.mean():.4f}% with std={sgd_results.std():.4f}') \n",
    "print('r^2: ', r2_score(y_test, y_pred))"
   ]
  },
  {
   "cell_type": "code",
   "execution_count": 36,
   "id": "758d8528",
   "metadata": {},
   "outputs": [
    {
     "name": "stdout",
     "output_type": "stream",
     "text": [
      "Lasso RMSE is 0.8128% with std=0.0078\n",
      "r^2:  0.24760189453449621\n"
     ]
    }
   ],
   "source": [
    "# Lasso regression\n",
    "lasso_reg = linear_model.Lasso(alpha=0.1)\n",
    "lasso_reg.fit(X_train,y_train)\n",
    "scores = cross_val_score(lasso_reg, X_train, y_train, scoring='neg_mean_absolute_error',\n",
    "                         n_jobs=-1)\n",
    "lasso_results = np.sqrt(-scores)\n",
    "y_pred = lasso_reg.predict(X_test)\n",
    "print(f'Lasso RMSE is {lasso_results.mean():.4f}% with std={lasso_results.std():.4f}') \n",
    "print('r^2: ', r2_score(y_test, y_pred))"
   ]
  },
  {
   "cell_type": "code",
   "execution_count": 37,
   "id": "89136238",
   "metadata": {},
   "outputs": [
    {
     "name": "stdout",
     "output_type": "stream",
     "text": [
      "Net RMSE is 0.8866% with std=0.0052\n",
      "r^2:  -2.2832936630301504e-07\n"
     ]
    }
   ],
   "source": [
    "# Elastic Net regression\n",
    "net_reg = ElasticNet(random_state=0)\n",
    "net_reg.fit(X_train,y_train)\n",
    "scores = cross_val_score(net_reg, X_train, y_train, scoring='neg_mean_absolute_error',\n",
    "                         n_jobs=-1)\n",
    "net_results = np.sqrt(-scores)\n",
    "y_pred = net_reg.predict(X_test)\n",
    "print(f'Net RMSE is {net_results.mean():.4f}% with std={net_results.std():.4f}') \n",
    "print('r^2: ', r2_score(y_test, y_pred))"
   ]
  },
  {
   "cell_type": "code",
   "execution_count": 38,
   "id": "a722e548",
   "metadata": {},
   "outputs": [
    {
     "name": "stdout",
     "output_type": "stream",
     "text": [
      "Net RMSE is 0.6444% with std=0.0050\n",
      "r^2:  0.680366949727264\n"
     ]
    }
   ],
   "source": [
    "# Ridge regression \n",
    "ridge_reg = Ridge(alpha=.5)\n",
    "ridge_reg.fit(X_train,y_train)\n",
    "scores = cross_val_score(ridge_reg, X_train, y_train, scoring='neg_mean_absolute_error',\n",
    "                         n_jobs=-1)\n",
    "ridge_results = np.sqrt(-scores)\n",
    "y_pred = ridge_reg.predict(X_test)\n",
    "print(f'Net RMSE is {ridge_results.mean():.4f}% with std={ridge_results.std():.4f}') \n",
    "print('r^2: ', r2_score(y_test, y_pred))"
   ]
  },
  {
   "cell_type": "code",
   "execution_count": 39,
   "id": "057a2ed3",
   "metadata": {},
   "outputs": [
    {
     "name": "stdout",
     "output_type": "stream",
     "text": [
      "Bagging RMSE is 0.6444% with std=0.0050\n",
      "r^2:  0.8955089944700373\n"
     ]
    }
   ],
   "source": [
    "# Bagging regression\n",
    "from sklearn.ensemble import BaggingRegressor\n",
    "#from sklearn.svm import SVR\n",
    "bag_reg = BaggingRegressor(random_state=0)\n",
    "bag_reg.fit(X_train,y_train)\n",
    "bag_scores = cross_val_score(bag_reg, X_train, y_train, scoring='neg_mean_absolute_error',\n",
    "                         n_jobs=-1)\n",
    "bag_results = np.sqrt(-scores)\n",
    "y_pred = bag_reg.predict(X_test)\n",
    "print(f'Bagging RMSE is {bag_results.mean():.4f}% with std={bag_results.std():.4f}') \n",
    "print('r^2: ', r2_score(y_test, y_pred))"
   ]
  },
  {
   "cell_type": "markdown",
   "id": "35f0aedf",
   "metadata": {},
   "source": [
    "# Part 4"
   ]
  },
  {
   "cell_type": "code",
   "execution_count": 40,
   "id": "cb21e9a1",
   "metadata": {},
   "outputs": [
    {
     "name": "stdout",
     "output_type": "stream",
     "text": [
      "DT RMSE is 0.4391% with std=0.0234\n",
      "RF RMSE is 0.3139% with std=0.0097\n",
      "Bagging RMSE is 0.6444% with std=0.0050\n"
     ]
    }
   ],
   "source": [
    "# I already did cross validation before reading this step, so: \n",
    "print(f'DT RMSE is {DTresults.mean():.4f}% with std={DTresults.std():.4f}') \n",
    "print(f'RF RMSE is {RFresults.mean():.4f}% with std={RFresults.std():.4f}') \n",
    "print(f'Bagging RMSE is {bag_results.mean():.4f}% with std={bag_results.std():.4f}')"
   ]
  },
  {
   "cell_type": "code",
   "execution_count": null,
   "id": "6b9c99ec",
   "metadata": {},
   "outputs": [],
   "source": [
    "# Random Search\n",
    "RF2 = RandomForestRegressor(random_state=0, n_estimators = 30)\n",
    "\n",
    "params = {'bootstrap': [True,False],\n",
    "          'max_depth': [10*x for x in range(0,12)],\n",
    "          'max_features': ['auto', 'sqrt'],\n",
    "          'min_samples_split': [2,5,10],\n",
    "          'min_samples_leaf' : [1,2,4],\n",
    "          'n_estimators' : [200*(x+1) for x in range(0,10)]\n",
    "          # 200 – 2000, number of bins 10 ?????\n",
    "}\n",
    "#search_cv = RandomizedSearchCV(RF2, params, n_jobs=5)\n",
    "clf = RandomizedSearchCV(RF2, params, n_jobs=5)\n",
    "search = clf.fit(X_train, y_train)"
   ]
  },
  {
   "cell_type": "code",
   "execution_count": null,
   "id": "2c124784",
   "metadata": {},
   "outputs": [],
   "source": [
    "search.best_params_"
   ]
  },
  {
   "cell_type": "code",
   "execution_count": null,
   "id": "335b6a02",
   "metadata": {},
   "outputs": [],
   "source": [
    "RF_reg = RandomForestRegressor(n_estimators=800, min_samples_split=2, min_samples_leaf=1,\n",
    "                               max_features='auto', max_depth=80, bootstrap=True)"
   ]
  },
  {
   "cell_type": "code",
   "execution_count": null,
   "id": "23fb44e7",
   "metadata": {},
   "outputs": [],
   "source": [
    "# Random Forest Model\n",
    "#RF_reg = RandomForestRegressor(random_state=0, n_estimators = 30)\n",
    "RF_reg.fit(X_train, y_train)\n",
    "RFscores = cross_val_score(RF_reg, X_train, y_train, \\\n",
    "  scoring=\"neg_mean_squared_error\", cv=10)\n",
    "RFresults = np.sqrt(-RFscores)\n",
    "y_pred = RF_reg.predict(X_test)\n",
    "print(f'RF RMSE is {RFresults.mean():.4f}% with std={RFresults.std():.4f}') \n",
    "print('r^2: ', r2_score(y_test, y_pred))"
   ]
  }
 ],
 "metadata": {
  "kernelspec": {
   "display_name": "Python 3 (ipykernel)",
   "language": "python",
   "name": "python3"
  },
  "language_info": {
   "codemirror_mode": {
    "name": "ipython",
    "version": 3
   },
   "file_extension": ".py",
   "mimetype": "text/x-python",
   "name": "python",
   "nbconvert_exporter": "python",
   "pygments_lexer": "ipython3",
   "version": "3.9.6"
  }
 },
 "nbformat": 4,
 "nbformat_minor": 5
}
